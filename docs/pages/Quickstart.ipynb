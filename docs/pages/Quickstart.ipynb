{
 "cells": [
  {
   "cell_type": "markdown",
   "id": "1a4a60a1-f5c2-47e6-8eab-8a66732a4c3d",
   "metadata": {
    "pycharm": {
     "name": "#%% md\n"
    }
   },
   "source": [
    "Quickstart: fitting with PCA\n",
    "===========\n",
    "\n",
    "Compressing with PCA essentially allows us to swap an NTEMP x NPRESSURE x NWAV array for an NTEMP x NCOMPONENT x NWAV array, achieving approximately NPRESSURE/NCOMPONENT compression. To get started compressing opacities, we'll need to read in an opacity file. For the purposes of this tutorial,\n",
    "we'll just use a small sample file.\n",
    "\n",
    "First, let's import our package."
   ]
  },
  {
   "cell_type": "markdown",
   "id": "102e7af8-f394-45ee-bf11-821cff0885a4",
   "metadata": {
    "pycharm": {
     "name": "#%% md\n"
    }
   },
   "source": [
    "## Setting up the objects"
   ]
  },
  {
   "cell_type": "code",
   "execution_count": 5,
   "id": "876f888c-355c-465e-ade9-fa4704c2d95c",
   "metadata": {
    "pycharm": {
     "name": "#%%\n"
    }
   },
   "outputs": [],
   "source": [
    "import numpy as np\n",
    "\n",
    "import cortecs\n",
    "from cortecs.opac.opac import *\n",
    "from cortecs.fit.fit import *\n",
    "from cortecs.fit.fit_pca import *\n",
    "from cortecs.eval.eval import *\n",
    "from cortecs.fit.metrics import *"
   ]
  },
  {
   "cell_type": "code",
   "execution_count": 13,
   "id": "4f612cbc-abbc-4ec4-acde-4cd894ee3d87",
   "metadata": {},
   "outputs": [
    {
     "data": {
      "text/plain": [
       "'1.26.4'"
      ]
     },
     "execution_count": 13,
     "metadata": {},
     "output_type": "execute_result"
    }
   ],
   "source": [
    "np.__version__"
   ]
  },
  {
   "cell_type": "code",
   "execution_count": 7,
   "id": "1ac328e8-591c-4f46-ba68-d476b79f399b",
   "metadata": {},
   "outputs": [
    {
     "data": {
      "text/plain": [
       "array([3.00000000e-07, 3.00299510e-07, 3.00599320e-07, ...,\n",
       "       2.99401875e-05, 2.99700788e-05, 3.00000000e-05])"
      ]
     },
     "execution_count": 7,
     "metadata": {},
     "output_type": "execute_result"
    }
   ],
   "source": [
    "np.load(\"wavelengths.npy\", allow_pickle=True)"
   ]
  },
  {
   "cell_type": "code",
   "execution_count": 12,
   "id": "09d2afaf-1fc9-4250-b36a-dee6eafa7c45",
   "metadata": {},
   "outputs": [
    {
     "ename": "SyntaxError",
     "evalue": "invalid syntax (2096197996.py, line 2)",
     "output_type": "error",
     "traceback": [
      "\u001b[0;36m  Cell \u001b[0;32mIn[12], line 2\u001b[0;36m\u001b[0m\n\u001b[0;31m    with f as file.open((\"wavelengths.npy\"):\u001b[0m\n\u001b[0m                                           ^\u001b[0m\n\u001b[0;31mSyntaxError\u001b[0m\u001b[0;31m:\u001b[0m invalid syntax\n"
     ]
    }
   ],
   "source": [
    "# np.load(\"wavelengths.npy\")\n",
    "with f as file.open((\"wavelengths.npy\"):\n",
    "  foo = f.readlines()\n",
    "bar = np.load(foo)\n",
    "# yeah, the pickling just isn't precise enough or cannot be replicated across different machines. interesting!"
   ]
  },
  {
   "cell_type": "markdown",
   "id": "1c862ffa-5104-4673-890d-f2d2dc73b427",
   "metadata": {
    "pycharm": {
     "name": "#%% md\n"
    }
   },
   "source": [
    "Next, let's define our filenames. The loader for `PLATON`-style opacity files is the only one that requires separate temperature, pressure, and wavelength files; no other file type requires the `load_kwargs` argument."
   ]
  },
  {
   "cell_type": "code",
   "execution_count": 2,
   "id": "2a9a6c9c-adac-42ff-b5de-6a26ceac4c50",
   "metadata": {
    "pycharm": {
     "name": "#%%\n"
    }
   },
   "outputs": [],
   "source": [
    "T_filename = \"temperatures.npy\"\n",
    "P_filename = \"pressures.npy\"\n",
    "wl_filename = \"wavelengths.npy\"\n",
    "\n",
    "cross_sec_filename = \"absorb_coeffs_C2H4.npy\"\n",
    "\n",
    "load_kwargs = {\n",
    "    \"T_filename\": T_filename,\n",
    "    \"P_filename\": P_filename,\n",
    "    \"wl_filename\": wl_filename,\n",
    "}"
   ]
  },
  {
   "cell_type": "markdown",
   "id": "c5255f44-0436-4935-9875-31dbddd0de6b",
   "metadata": {
    "pycharm": {
     "name": "#%% md\n"
    }
   },
   "source": [
    "With our file names defined, we can instantiate an `Opac` object as below."
   ]
  },
  {
   "cell_type": "code",
   "execution_count": 3,
   "id": "5b2755dd-2306-42d3-81e9-d1ae45370af6",
   "metadata": {
    "pycharm": {
     "name": "#%%\n"
    }
   },
   "outputs": [
    {
     "data": {
      "text/plain": [
       "<cortecs.opac.opac.Opac at 0x299f82bf0>"
      ]
     },
     "execution_count": 3,
     "metadata": {},
     "output_type": "execute_result"
    }
   ],
   "source": [
    "opac_obj = Opac(cross_sec_filename, loader=\"platon\", load_kwargs=load_kwargs)\n",
    "\n",
    "opac_obj"
   ]
  },
  {
   "cell_type": "markdown",
   "id": "697ac812-61b7-4a06-b421-ad6c518c0efb",
   "metadata": {
    "pycharm": {
     "name": "#%% md\n"
    }
   },
   "source": [
    "Now we have an `Opac` object instantiated. The object stores information on the opacity file's fields. Let's investigate a few."
   ]
  },
  {
   "cell_type": "code",
   "execution_count": 4,
   "id": "8c135e9c-c761-4a01-baed-c3fd5c5efcf9",
   "metadata": {
    "pycharm": {
     "name": "#%%\n"
    }
   },
   "outputs": [
    {
     "data": {
      "text/plain": [
       "array([3.00000000e-07, 3.00299510e-07, 3.00599320e-07, ...,\n",
       "       2.99401875e-05, 2.99700788e-05, 3.00000000e-05])"
      ]
     },
     "execution_count": 4,
     "metadata": {},
     "output_type": "execute_result"
    }
   ],
   "source": [
    "opac_obj.wl  # these wavelengths are in meters"
   ]
  },
  {
   "cell_type": "code",
   "execution_count": 5,
   "id": "11f481a7-46e4-4f59-87dd-56c034fd6315",
   "metadata": {
    "pycharm": {
     "name": "#%%\n"
    }
   },
   "outputs": [
    {
     "data": {
      "text/plain": [
       "array([ 100.,  200.,  300.,  400.,  500.,  600.,  700.,  800.,  900.,\n",
       "       1000., 1100., 1200., 1300., 1400., 1500., 1600., 1700., 1800.,\n",
       "       1900., 2000., 2100., 2200., 2300., 2400., 2500., 2600., 2700.,\n",
       "       2800., 2900., 3000.])"
      ]
     },
     "execution_count": 5,
     "metadata": {},
     "output_type": "execute_result"
    }
   ],
   "source": [
    "opac_obj.T  # these temperatures are in Kelvin"
   ]
  },
  {
   "cell_type": "code",
   "execution_count": 6,
   "id": "5826bbb6-a03a-47cb-8b89-c95c392bc38c",
   "metadata": {
    "pycharm": {
     "name": "#%%\n"
    }
   },
   "outputs": [
    {
     "data": {
      "text/plain": [
       "array([1.e-04, 1.e-03, 1.e-02, 1.e-01, 1.e+00, 1.e+01, 1.e+02, 1.e+03,\n",
       "       1.e+04, 1.e+05, 1.e+06, 1.e+07, 1.e+08])"
      ]
     },
     "execution_count": 6,
     "metadata": {},
     "output_type": "execute_result"
    }
   ],
   "source": [
    "opac_obj.P  # these pressures are in pascals"
   ]
  },
  {
   "cell_type": "markdown",
   "id": "eb987841-4bb6-4f21-b116-a569c54af91d",
   "metadata": {
    "pycharm": {
     "name": "#%% md\n"
    }
   },
   "source": [
    "The wavelengths, temperatures, and pressures on which these opacities were evaluated are attributes of the `Opac` object."
   ]
  },
  {
   "cell_type": "markdown",
   "id": "9ce40cdd-82d0-48dd-b6a6-5c8749eb6de2",
   "metadata": {
    "pycharm": {
     "name": "#%% md\n"
    }
   },
   "source": [
    "## Fitting the opacity\n",
    "\n",
    "Now, let's do something interesting with the `Opac` object: compress it using the principal components algorithm (PCA). This process works by first finding the vectors that best describe the shape of the temperature--pressure dependence of the opacity function at a *single wavelength*. Then, the code fits these eigenvectors to the temperature--pressure dependence of every other wavelength.\n",
    "\n",
    "To do so, we'll instantiate the `Fitter` object. We pass `nc=5` to the `Fitter` object to tell it to use 3 eigenvectors to fit the opacity. This is a hyperparameter that you can tune to your liking. Increasing `nc` can provide a better fit, but doing so will take up more RAM. Decreasing `nc` may yield a worse opacity fit, but it will consume less memory.\n",
    "\n",
    "We'll also pass `wav_ind=-2` to tell the `Fitter` object to fit the opacity at the first wavelength. This is the wavelength at which the eigenvectors are calculated. "
   ]
  },
  {
   "cell_type": "code",
   "execution_count": 7,
   "id": "ae63d6af-b7c9-4df3-ae5c-e4eb2be7bde7",
   "metadata": {
    "pycharm": {
     "name": "#%%\n"
    }
   },
   "outputs": [
    {
     "data": {
      "text/plain": [
       "<cortecs.fit.fit.Fitter at 0x299f82890>"
      ]
     },
     "execution_count": 7,
     "metadata": {},
     "output_type": "execute_result"
    }
   ],
   "source": [
    "fitter = Fitter(opac_obj, wav_ind=-2, nc=5)\n",
    "fitter"
   ]
  },
  {
   "cell_type": "markdown",
   "id": "4644e577-4c33-47be-8118-8d8a850b7159",
   "metadata": {},
   "source": [
    "Again, the temperature--pressure dependence at all wavelengths is fitted as a linear combination of the eigenvectors calculated at `wav_ind`. The success of this approach can then of course depend on which`wav_ind` is chosen by the user. See the [optimizing fits notebook](https://cortecs.readthedocs.io/en/latest/pages/optimizing) for more information on how to choose the best `wav_ind`."
   ]
  },
  {
   "cell_type": "markdown",
   "id": "2e05aefe-976b-4f16-aeaa-98e6758950ab",
   "metadata": {
    "pycharm": {
     "name": "#%% md\n"
    }
   },
   "source": [
    "With our `Fitter` object set up, we can fit this serially. "
   ]
  },
  {
   "cell_type": "code",
   "execution_count": 8,
   "id": "e9754778-f19a-4ce3-ba56-3c4dc3fbe2c9",
   "metadata": {
    "pycharm": {
     "name": "#%%\n"
    }
   },
   "outputs": [
    {
     "name": "stderr",
     "output_type": "stream",
     "text": [
      "100%|█████████████████████████████████████████████████████████████████████████████████████████████████████████████████████████████████████████| 4616/4616 [00:00<00:00, 27070.47it/s]\n"
     ]
    }
   ],
   "source": [
    "fitter.fit()"
   ]
  },
  {
   "cell_type": "markdown",
   "id": "20bfc2b6-cdd2-4d93-87e1-f31e1a54636f",
   "metadata": {
    "pycharm": {
     "name": "#%% md\n"
    }
   },
   "source": [
    "This process should be pretty quick — less than a second, hopefully. \n",
    "\n",
    "One thing to keep in mind is that the opacity values at the fitted wavelength shouldn't be constant unless the opacity values at *every* wavelength is constant. The first step of the fitting function is to find the PCA components that describe the temperature--pressure dependence of the wavelength at `wav_ind`. Afterward, it fits these components to the opacity values at each wavelength. Therefore, the temperature--pressure dependence at `wav_ind` should be at least somewhat representative of the temperature--pressure dependence everywhere.  \n",
    "\n",
    "What do we do next? Now that we've *fit* the opacity, we can *evaluate* it. Hopefully things line up well enough.\n",
    "\n",
    "We define our last object: an `Evaluator`. This step should look pretty similar as before."
   ]
  },
  {
   "cell_type": "code",
   "execution_count": 9,
   "id": "b7dbc38e-7f27-4491-b35d-8622bc95fa5b",
   "metadata": {
    "pycharm": {
     "name": "#%%\n"
    }
   },
   "outputs": [],
   "source": [
    "evaluator = Evaluator(opac_obj, fitter)"
   ]
  },
  {
   "cell_type": "markdown",
   "id": "d5d9bd4e-f97d-44e2-be46-f0c4f8dadfc8",
   "metadata": {},
   "source": [
    "# Saving fits to disk\n",
    "Now that we've performed our fits, we can save them to disk for later evaluation. We'll use the `fitter` object and provide the `savename` argument for the base of the file names."
   ]
  },
  {
   "cell_type": "code",
   "execution_count": 10,
   "id": "32c502d8-27c6-4e94-a4f4-9f29092c613b",
   "metadata": {},
   "outputs": [],
   "source": [
    "fitter.save(\"test_pca\")"
   ]
  },
  {
   "cell_type": "code",
   "execution_count": 11,
   "id": "e181ecc1-65ee-40b7-bf27-1ea2727b7c25",
   "metadata": {},
   "outputs": [
    {
     "name": "stdout",
     "output_type": "stream",
     "text": [
      "Quickstart.ipynb          fitting_polynomial.ipynb  quickstart.rst\n",
      "absorb_coeffs_C2H4.npy    installation.rst          temperatures.npy\n",
      "api.rst                   integrations.rst          test_pca.npz\n",
      "faq.rst                   optimizing.ipynb          versioning.rst\n",
      "fitting_nn.ipynb          pressures.npy             wavelengths.npy\n"
     ]
    }
   ],
   "source": [
    "ls"
   ]
  },
  {
   "cell_type": "markdown",
   "id": "b12fcc21-2ecc-415b-9993-b741ae15f707",
   "metadata": {},
   "source": [
    "The two files `test_pca_coeffs.npy` and `test_pca_vectors.npy` have now been created. Great!"
   ]
  },
  {
   "cell_type": "markdown",
   "id": "b3df01e0-85be-4923-95b5-62849b2a0f30",
   "metadata": {},
   "source": [
    "# Loading fits from disk\n",
    "Loading the PCA fits is as easy as:"
   ]
  },
  {
   "cell_type": "code",
   "execution_count": 12,
   "id": "aaf494ab-01e8-410f-8674-356a1f67fbe6",
   "metadata": {},
   "outputs": [],
   "source": [
    "pca_coeffs = np.load(\"test_pca.npz\")[\"pca_coeffs\"]\n",
    "vectors = np.load(\"test_pca.npz\")[\"vectors\"]"
   ]
  },
  {
   "cell_type": "markdown",
   "id": "6426800a-31a2-4ccd-a9fb-4afbb28ad43c",
   "metadata": {},
   "source": [
    "# Evaluating the fits\n",
    "If you're doing the fitting and evaluating on the same machine, it's convenient to use the `Eval` object defined above to \"decompress\" the compressed opacities.\n",
    "\n",
    "However, a more common workflow involves evaluating the opacities on a different machine (e.g., a supercomputing cluster) or a different Python instance. To \"decompress\" our opacity, we can use the `eval_pca` method. It takes in the desired temperature, pressure, and wavelength at which to evaluate the opacity, the temperature, pressure, and wavelength arrays of the original data, and the results of our earlier fitting step. "
   ]
  },
  {
   "cell_type": "code",
   "execution_count": 13,
   "id": "7acc6c74-c8ac-45f8-9ddd-4acacb4dab53",
   "metadata": {},
   "outputs": [
    {
     "data": {
      "text/plain": [
       "Array(-29.885494, dtype=float32)"
      ]
     },
     "execution_count": 13,
     "metadata": {},
     "output_type": "execute_result"
    }
   ],
   "source": [
    "temperature = 500  # Kelvin — same as the original data\n",
    "pressure = 1  # Pascals — same as the original data\n",
    "wavelength = 1e-5  # meters — same as the original data\n",
    "\n",
    "fitting_results = [vectors, pca_coeffs]\n",
    "cortecs.eval.eval_pca.eval_pca(\n",
    "    temperature,\n",
    "    pressure,\n",
    "    wavelength,\n",
    "    opac_obj.T,\n",
    "    opac_obj.P,\n",
    "    opac_obj.wl,\n",
    "    fitting_results,\n",
    ")"
   ]
  },
  {
   "cell_type": "markdown",
   "id": "027934fc-4aad-4f3e-8303-5cc2d4498a69",
   "metadata": {},
   "source": [
    "Oftentimes, radiative transfer calculations can be parallelized over wavelength. We provide an accelerator-friendly `JAX` implementation of \n",
    "this at a single wavelength."
   ]
  },
  {
   "cell_type": "code",
   "execution_count": 14,
   "id": "27e64b7b-b29a-4696-b530-db5196584656",
   "metadata": {},
   "outputs": [
    {
     "data": {
      "text/plain": [
       "Array(-104., dtype=float32)"
      ]
     },
     "execution_count": 14,
     "metadata": {},
     "output_type": "execute_result"
    }
   ],
   "source": [
    "pca_coeffs_single_wavelength = pca_coeffs[0]\n",
    "temperature_ind = 1\n",
    "pressure_ind = 2\n",
    "\n",
    "eval_pca_ind_wav(temperature_ind, pressure_ind, vectors, pca_coeffs_single_wavelength)"
   ]
  },
  {
   "cell_type": "markdown",
   "id": "b9b6cd6a-0c20-4b57-b923-1d49d26fa58a",
   "metadata": {
    "pycharm": {
     "name": "#%% md\n"
    }
   },
   "source": [
    "## Checking accuracy and speed\n",
    "\n",
    "Saving memory isn't all that useful if we're slow and inaccurate. Let's check whether that's the case.\n",
    "\n",
    "First of all, time. Let's use a lower-level routine that's a bit more apples-to-apples comparison with array-indexing."
   ]
  },
  {
   "cell_type": "code",
   "execution_count": 15,
   "id": "3a698c42-b1e4-40fa-b173-a7b43ece248c",
   "metadata": {
    "pycharm": {
     "name": "#%%\n"
    }
   },
   "outputs": [],
   "source": [
    "temperature_ind = np.where(np.isclose(opac_obj.T, temperature))[0][0]\n",
    "pressure_ind = np.where(np.isclose(opac_obj.P, pressure))[0][0]\n",
    "wavelength_ind = np.where(np.isclose(opac_obj.wl, wavelength))[0][0]\n",
    "pca_vectors, pca_coeffs_all_wl = evaluator.fitter_results\n",
    "pca_coeffs = pca_coeffs_all_wl[wavelength_ind, :, :]"
   ]
  },
  {
   "cell_type": "code",
   "execution_count": 16,
   "id": "858bd69b-970c-4df9-a2f9-aa252e48a628",
   "metadata": {
    "pycharm": {
     "name": "#%%\n"
    }
   },
   "outputs": [
    {
     "name": "stdout",
     "output_type": "stream",
     "text": [
      "7.18 µs ± 27.5 ns per loop (mean ± std. dev. of 7 runs, 100,000 loops each)\n"
     ]
    }
   ],
   "source": [
    "%%timeit\n",
    "eval_pca_ind_wav(temperature_ind, pressure_ind, pca_vectors, pca_coeffs)"
   ]
  },
  {
   "cell_type": "markdown",
   "id": "d7d8592d-d838-4d38-9fa7-4e89385f2f28",
   "metadata": {
    "pycharm": {
     "name": "#%% md\n"
    }
   },
   "source": [
    "Let's compare this to how long it takes to access an array."
   ]
  },
  {
   "cell_type": "code",
   "execution_count": 17,
   "id": "ffc598f2-decb-4762-b670-116969c4fdb0",
   "metadata": {
    "pycharm": {
     "name": "#%%\n"
    }
   },
   "outputs": [
    {
     "name": "stdout",
     "output_type": "stream",
     "text": [
      "285 ns ± 6.17 ns per loop (mean ± std. dev. of 7 runs, 1,000,000 loops each)\n"
     ]
    }
   ],
   "source": [
    "%%timeit\n",
    "opac_obj.cross_section[temperature_ind][pressure_ind][wavelength_ind]"
   ]
  },
  {
   "cell_type": "markdown",
   "id": "4380a3fa-791e-4989-9046-6e8779252ce2",
   "metadata": {
    "pycharm": {
     "name": "#%% md\n"
    }
   },
   "source": [
    "Accessing the array directly is clearly faster. As long as this step does not bottleneck your code, however, you should be fine.\n",
    "\n",
    "Now, let's check the accuracy. We'll compare the log abundances, because this is the quantity to which we are sensitive in exoplanet spectroscopy."
   ]
  },
  {
   "cell_type": "code",
   "execution_count": 18,
   "id": "b3a9f9a1-c914-4121-8cfe-b25780116953",
   "metadata": {
    "pycharm": {
     "name": "#%%\n"
    }
   },
   "outputs": [],
   "source": [
    "AMU = 1.6605390666e-24  # atomic mass unit in cgs. From astropy!"
   ]
  },
  {
   "cell_type": "code",
   "execution_count": 19,
   "id": "824b7ee4-a201-487c-8b0e-a226250b7960",
   "metadata": {
    "pycharm": {
     "name": "#%%\n"
    }
   },
   "outputs": [],
   "source": [
    "array_res = opac_obj.cross_section[temperature_ind][pressure_ind][wavelength_ind]"
   ]
  },
  {
   "cell_type": "code",
   "execution_count": 20,
   "id": "f4b57b46-bd9a-4a91-be94-a71bec07bc03",
   "metadata": {
    "pycharm": {
     "name": "#%%\n"
    }
   },
   "outputs": [],
   "source": [
    "eval_res = np.log10(\n",
    "    evaluator.eval(temperature, pressure, wavelength)\n",
    "    * evaluator.load_obj.species_weight\n",
    "    * AMU\n",
    "    * 1e-4\n",
    ")"
   ]
  },
  {
   "cell_type": "code",
   "execution_count": 21,
   "id": "4ecdfac5-d641-4226-8654-12f2dc75bf4d",
   "metadata": {
    "pycharm": {
     "name": "#%%\n"
    }
   },
   "outputs": [
    {
     "data": {
      "text/plain": [
       "-0.0027570749867853288"
      ]
     },
     "execution_count": 21,
     "metadata": {},
     "output_type": "execute_result"
    }
   ],
   "source": [
    "percent_error = 100 * (eval_res - array_res) / array_res\n",
    "percent_error"
   ]
  },
  {
   "cell_type": "code",
   "execution_count": 22,
   "id": "91cab042-5318-4a08-a52a-a45328e91092",
   "metadata": {},
   "outputs": [
    {
     "data": {
      "text/plain": [
       "-0.0027570749867853288"
      ]
     },
     "execution_count": 22,
     "metadata": {},
     "output_type": "execute_result"
    }
   ],
   "source": [
    "percent_error = 100 * (eval_res - array_res) / array_res\n",
    "percent_error"
   ]
  },
  {
   "cell_type": "markdown",
   "id": "906f1288-d237-4d6d-b0d4-b78dc1f6588a",
   "metadata": {
    "pycharm": {
     "name": "#%% md\n"
    }
   },
   "source": [
    "We're reaching a 9% error in the log abundance. That might be good enough for your applications, or it might not. We recommend tuning your algorithm to the level of agreement necessary for, e.g., generating a transmission spectrum, or running an emission spectrum retrieval."
   ]
  },
  {
   "cell_type": "markdown",
   "id": "cc2574d4-8e36-4b60-ad50-49992857cd68",
   "metadata": {},
   "source": [
    "How do we do over the entire opacity function, as opposed to just a single point? Let's use the `metrics` module to find out.\n",
    "\n",
    "We'll undersample the pressure and temperature axes by a factor of 2 using `tp_undersample_factor=2`. This is purely for computational reasons to keep the notebook a bit shorter."
   ]
  },
  {
   "cell_type": "code",
   "execution_count": 24,
   "id": "fbd2cd74-dfee-4d8f-a128-e99a38a91935",
   "metadata": {},
   "outputs": [
    {
     "name": "stderr",
     "output_type": "stream",
     "text": [
      "100%|████████████████████████████████████████████████████████████████████████████████████████████████████████████████████████████████████████████████| 15/15 [00:06<00:00,  2.16it/s]\n"
     ]
    },
    {
     "data": {
      "image/png": "[encoded data removed]",
      "text/plain": [
       "<Figure size 640x480 with 1 Axes>"
      ]
     },
     "metadata": {},
     "output_type": "display_data"
    },
    {
     "data": {
      "image/png": "[encoded data removed]",
      "text/plain": [
       "<Figure size 640x480 with 1 Axes>"
      ]
     },
     "metadata": {},
     "output_type": "display_data"
    }
   ],
   "source": [
    "vals, orig_vals, abs_diffs, percent_diffs = calc_metrics(\n",
    "    fitter, tp_undersample_factor=2, plot=True\n",
    ");"
   ]
  },
  {
   "cell_type": "markdown",
   "id": "b98f4d72-3864-4d9b-a404-2009084affa0",
   "metadata": {},
   "source": [
    "Note that there's a distribution of accuracy. ***Ensure that this level of accuracy is adequate for your use case (e.g., run a test retrieval with and without cortecs) before applying `cortecs` to all your work!***"
   ]
  },
  {
   "cell_type": "code",
   "execution_count": 25,
   "id": "ab45aa68-8a5e-493b-b165-bb1f5accc41f",
   "metadata": {},
   "outputs": [
    {
     "data": {
      "text/plain": [
       "-29.88631822038186"
      ]
     },
     "execution_count": 25,
     "metadata": {},
     "output_type": "execute_result"
    }
   ],
   "source": [
    "array_res"
   ]
  },
  {
   "cell_type": "code",
   "execution_count": null,
   "id": "72577d36-62c2-4552-87f2-f03c13f84ddb",
   "metadata": {},
   "outputs": [],
   "source": []
  }
 ],
 "metadata": {
  "kernelspec": {
   "display_name": "Python 3 (ipykernel)",
   "language": "python",
   "name": "python3"
  },
  "language_info": {
   "codemirror_mode": {
    "name": "ipython",
    "version": 3
   },
   "file_extension": ".py",
   "mimetype": "text/x-python",
   "name": "python",
   "nbconvert_exporter": "python",
   "pygments_lexer": "ipython3",
   "version": "3.10.13"
  }
 },
 "nbformat": 4,
 "nbformat_minor": 5
}
