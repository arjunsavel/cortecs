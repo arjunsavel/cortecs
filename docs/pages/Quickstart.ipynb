{
 "cells": [
  {
   "cell_type": "markdown",
   "id": "1a4a60a1-f5c2-47e6-8eab-8a66732a4c3d",
   "metadata": {},
   "source": [
    "Quickstart\n",
    "===========\n",
    "\n",
    "To get started compressing opacities, we'll need to read in an opacity file. For the purposes of this tutorial,\n",
    "we'll just use a small sample file.\n",
    "\n",
    "First, let's import our package."
   ]
  },
  {
   "cell_type": "markdown",
   "id": "102e7af8-f394-45ee-bf11-821cff0885a4",
   "metadata": {},
   "source": [
    "## Setting up the objects"
   ]
  },
  {
   "cell_type": "code",
   "execution_count": 1,
   "id": "876f888c-355c-465e-ade9-fa4704c2d95c",
   "metadata": {},
   "outputs": [],
   "source": [
    "import numpy as np\n",
    "\n",
    "import cortecs\n",
    "from cortecs.opac.opac import *\n",
    "from cortecs.fit.fit import *\n",
    "from cortecs.fit.fit_pca import *\n",
    "from cortecs.eval.eval import *"
   ]
  },
  {
   "cell_type": "markdown",
   "id": "1c862ffa-5104-4673-890d-f2d2dc73b427",
   "metadata": {},
   "source": [
    "Next, let's define our filenames. The loader for `PLATON`-style opacity files is the only one that requires separate temperature, pressure, and wavelength files; no other file type requires the `load_kwargs` argument."
   ]
  },
  {
   "cell_type": "code",
   "execution_count": 2,
   "id": "2a9a6c9c-adac-42ff-b5de-6a26ceac4c50",
   "metadata": {},
   "outputs": [],
   "source": [
    "T_filename = \"temperatures.npy\"\n",
    "P_filename = \"pressures.npy\"\n",
    "wl_filename = \"wavelengths.npy\"\n",
    "\n",
    "cross_sec_filename = \"absorb_coeffs_C2H4.npy\"\n",
    "\n",
    "load_kwargs = {\n",
    "    \"T_filename\": T_filename,\n",
    "    \"P_filename\": P_filename,\n",
    "    \"wl_filename\": wl_filename,\n",
    "}"
   ]
  },
  {
   "cell_type": "markdown",
   "id": "c5255f44-0436-4935-9875-31dbddd0de6b",
   "metadata": {},
   "source": [
    "With our file names defined, we can instantiate an `Opac` object as below."
   ]
  },
  {
   "cell_type": "code",
   "execution_count": 3,
   "id": "5b2755dd-2306-42d3-81e9-d1ae45370af6",
   "metadata": {},
   "outputs": [
    {
     "name": "stderr",
     "output_type": "stream",
     "text": [
      "/Users/arjunsavel/Desktop/research/opac_compress/src/cortecs/opac/io.py:156: RuntimeWarning: divide by zero encountered in log10\n",
      "  cross_section = np.log10(cross_section)\n"
     ]
    },
    {
     "data": {
      "text/plain": [
       "<cortecs.opac.opac.Opac at 0x295a83d60>"
      ]
     },
     "execution_count": 3,
     "metadata": {},
     "output_type": "execute_result"
    }
   ],
   "source": [
    "opac_obj = Opac(cross_sec_filename, loader=\"platon\", load_kwargs=load_kwargs)\n",
    "\n",
    "opac_obj"
   ]
  },
  {
   "cell_type": "markdown",
   "id": "697ac812-61b7-4a06-b421-ad6c518c0efb",
   "metadata": {},
   "source": [
    "It's normal to have a warning here. For `PLATON` opacities, very low values are set as 0. We fit the log10 opacities instead of the opacity values themselves, because there's less dynamic range on a log scale—which makes things easier to fit. Taking the log of produces a `RuntimeWarning` and returns `-np.inf`. But no need to worry—we catch these and set those infinities to a large negative number. \n",
    "\n",
    "Now we have an `Opac` object instantiated. The object stores information on the opacity file's fields. Let's investigate a few."
   ]
  },
  {
   "cell_type": "code",
   "execution_count": 4,
   "id": "8c135e9c-c761-4a01-baed-c3fd5c5efcf9",
   "metadata": {},
   "outputs": [
    {
     "data": {
      "text/plain": [
       "array([3.00000000e-07, 3.00299510e-07, 3.00599320e-07, ...,\n",
       "       2.99401875e-05, 2.99700788e-05, 3.00000000e-05])"
      ]
     },
     "execution_count": 4,
     "metadata": {},
     "output_type": "execute_result"
    }
   ],
   "source": [
    "opac_obj.wl"
   ]
  },
  {
   "cell_type": "code",
   "execution_count": 5,
   "id": "11f481a7-46e4-4f59-87dd-56c034fd6315",
   "metadata": {},
   "outputs": [
    {
     "data": {
      "text/plain": [
       "array([ 100.,  200.,  300.,  400.,  500.,  600.,  700.,  800.,  900.,\n",
       "       1000., 1100., 1200., 1300., 1400., 1500., 1600., 1700., 1800.,\n",
       "       1900., 2000., 2100., 2200., 2300., 2400., 2500., 2600., 2700.,\n",
       "       2800., 2900., 3000.])"
      ]
     },
     "execution_count": 5,
     "metadata": {},
     "output_type": "execute_result"
    }
   ],
   "source": [
    "opac_obj.T"
   ]
  },
  {
   "cell_type": "code",
   "execution_count": 6,
   "id": "5826bbb6-a03a-47cb-8b89-c95c392bc38c",
   "metadata": {},
   "outputs": [
    {
     "data": {
      "text/plain": [
       "array([1.e-04, 1.e-03, 1.e-02, 1.e-01, 1.e+00, 1.e+01, 1.e+02, 1.e+03,\n",
       "       1.e+04, 1.e+05, 1.e+06, 1.e+07, 1.e+08])"
      ]
     },
     "execution_count": 6,
     "metadata": {},
     "output_type": "execute_result"
    }
   ],
   "source": [
    "opac_obj.P"
   ]
  },
  {
   "cell_type": "markdown",
   "id": "eb987841-4bb6-4f21-b116-a569c54af91d",
   "metadata": {},
   "source": [
    "The wavelengths, temperatures, and pressures on which these opacities were evaluated are attributes of the `Opac` object."
   ]
  },
  {
   "cell_type": "markdown",
   "id": "9ce40cdd-82d0-48dd-b6a6-5c8749eb6de2",
   "metadata": {},
   "source": [
    "## Fitting the opacity\n",
    "\n",
    "Now, let's do something interesting with the `Opac` object: compress it using PCA. This works by first finding the vectors that best describe the shape of the temperature--pressure dependence of the opacity function at a *single wavelength*. Then, the code fits these eigenvectors to the temperature--pressure dependence of every other wavelength.\n",
    "\n",
    "To do so, we'll instantiate the `Fitter` object."
   ]
  },
  {
   "cell_type": "code",
   "execution_count": 7,
   "id": "ae63d6af-b7c9-4df3-ae5c-e4eb2be7bde7",
   "metadata": {},
   "outputs": [
    {
     "data": {
      "text/plain": [
       "<cortecs.fit.fit.Fitter at 0x295a81d50>"
      ]
     },
     "execution_count": 7,
     "metadata": {},
     "output_type": "execute_result"
    }
   ],
   "source": [
    "fitter = Fitter(opac_obj, wav_ind=0, nc=3)\n",
    "fitter"
   ]
  },
  {
   "cell_type": "markdown",
   "id": "2e05aefe-976b-4f16-aeaa-98e6758950ab",
   "metadata": {},
   "source": [
    "With our `Fitter` object set up, we can fit this serially. \n",
    "\n",
    "Running this code is as easy as..."
   ]
  },
  {
   "cell_type": "code",
   "execution_count": 8,
   "id": "8e8c626f-1e9d-456c-9d60-5c84643e3cd8",
   "metadata": {},
   "outputs": [
    {
     "ename": "ValueError",
     "evalue": "all values are the same at this wavelength index! Try a different one.",
     "output_type": "error",
     "traceback": [
      "\u001b[0;31m---------------------------------------------------------------------------\u001b[0m",
      "\u001b[0;31mValueError\u001b[0m                                Traceback (most recent call last)",
      "Cell \u001b[0;32mIn[8], line 1\u001b[0m\n\u001b[0;32m----> 1\u001b[0m \u001b[43mfitter\u001b[49m\u001b[38;5;241;43m.\u001b[39;49m\u001b[43mfit\u001b[49m\u001b[43m(\u001b[49m\u001b[43m)\u001b[49m\n",
      "File \u001b[0;32m~/Desktop/research/opac_compress/src/cortecs/fit/fit.py:68\u001b[0m, in \u001b[0;36mFitter.fit\u001b[0;34m(self, parallel)\u001b[0m\n\u001b[1;32m     66\u001b[0m \u001b[38;5;66;03m# iterate over the wavelengths.\u001b[39;00m\n\u001b[1;32m     67\u001b[0m prep_method \u001b[38;5;241m=\u001b[39m \u001b[38;5;28mself\u001b[39m\u001b[38;5;241m.\u001b[39mprep_method_dict[\u001b[38;5;28mself\u001b[39m\u001b[38;5;241m.\u001b[39mmethod]\n\u001b[0;32m---> 68\u001b[0m \u001b[38;5;28mself\u001b[39m\u001b[38;5;241m.\u001b[39mprep_res \u001b[38;5;241m=\u001b[39m \u001b[43mprep_method\u001b[49m\u001b[43m(\u001b[49m\u001b[38;5;28;43mself\u001b[39;49m\u001b[38;5;241;43m.\u001b[39;49m\u001b[43mopac\u001b[49m\u001b[38;5;241;43m.\u001b[39;49m\u001b[43mcross_section\u001b[49m\u001b[43m,\u001b[49m\u001b[43m \u001b[49m\u001b[38;5;241;43m*\u001b[39;49m\u001b[38;5;241;43m*\u001b[39;49m\u001b[38;5;28;43mself\u001b[39;49m\u001b[38;5;241;43m.\u001b[39;49m\u001b[43mfitter_kwargs\u001b[49m\u001b[43m)\u001b[49m\n\u001b[1;32m     69\u001b[0m \u001b[38;5;28;01mif\u001b[39;00m \u001b[38;5;129;01mnot\u001b[39;00m parallel:\n\u001b[1;32m     70\u001b[0m     \u001b[38;5;28mself\u001b[39m\u001b[38;5;241m.\u001b[39mfit_serial()\n",
      "File \u001b[0;32m~/Desktop/research/opac_compress/src/cortecs/fit/fit_pca.py:129\u001b[0m, in \u001b[0;36mprep_pca\u001b[0;34m(cross_section, wav_ind, nc)\u001b[0m\n\u001b[1;32m    127\u001b[0m single_pres_single_temp \u001b[38;5;241m=\u001b[39m cross_section[:, :, wav_ind]\n\u001b[1;32m    128\u001b[0m \u001b[38;5;28;01mif\u001b[39;00m np\u001b[38;5;241m.\u001b[39mall(single_pres_single_temp \u001b[38;5;241m==\u001b[39m single_pres_single_temp[\u001b[38;5;241m0\u001b[39m, \u001b[38;5;241m0\u001b[39m]):\n\u001b[0;32m--> 129\u001b[0m     \u001b[38;5;28;01mraise\u001b[39;00m \u001b[38;5;167;01mValueError\u001b[39;00m(\n\u001b[1;32m    130\u001b[0m         \u001b[38;5;124m\"\u001b[39m\u001b[38;5;124mall values are the same at this wavelength index! Try a different one.\u001b[39m\u001b[38;5;124m\"\u001b[39m\n\u001b[1;32m    131\u001b[0m     )\n\u001b[1;32m    133\u001b[0m xMat, fStd, fNorm, beta, s, vh, u \u001b[38;5;241m=\u001b[39m do_pca(single_pres_single_temp, nc)\n\u001b[1;32m    134\u001b[0m \u001b[38;5;28;01mreturn\u001b[39;00m xMat\n",
      "\u001b[0;31mValueError\u001b[0m: all values are the same at this wavelength index! Try a different one."
     ]
    }
   ],
   "source": [
    "fitter.fit()"
   ]
  },
  {
   "cell_type": "markdown",
   "id": "18196226-f921-46d1-8ff6-b8ac7a6eed21",
   "metadata": {},
   "source": [
    "Oops! All of the opacity values at the first wavelength are constant. So, the algorithm can't learn the temperature--pressure dependence of the opacity. Let's try again, starting with a different wavelength index."
   ]
  },
  {
   "cell_type": "code",
   "execution_count": 9,
   "id": "e9754778-f19a-4ce3-ba56-3c4dc3fbe2c9",
   "metadata": {},
   "outputs": [
    {
     "name": "stderr",
     "output_type": "stream",
     "text": [
      "100%|█████████████████████████████████████████████████████████████████████████████████████████████████████████████████████████████████████████| 4616/4616 [00:00<00:00, 27418.22it/s]\n"
     ]
    }
   ],
   "source": [
    "fitter = Fitter(opac_obj, wav_ind=-2, nc=3)\n",
    "fitter.fit()"
   ]
  },
  {
   "cell_type": "markdown",
   "id": "20bfc2b6-cdd2-4d93-87e1-f31e1a54636f",
   "metadata": {},
   "source": [
    "This process should be pretty quick — less than a second, hopefully. \n",
    "\n",
    "What do we do next? Now that we've *fit* the opacity, we can *evaluate* it. Hopefully things line up well enough.\n",
    "\n",
    "We define our last object: an `Evaluator`. This step should look pretty similar as before."
   ]
  },
  {
   "cell_type": "code",
   "execution_count": 10,
   "id": "b7dbc38e-7f27-4491-b35d-8622bc95fa5b",
   "metadata": {},
   "outputs": [],
   "source": [
    "evaluator = Evaluator(opac_obj, fitter)"
   ]
  },
  {
   "cell_type": "markdown",
   "id": "0b39e762-ca2d-4b67-ad3a-adbdd99922b0",
   "metadata": {},
   "source": [
    "Finally, we can evaluate our algorithm on a single point in the temperature--pressure--wavelength grid."
   ]
  },
  {
   "cell_type": "code",
   "execution_count": 11,
   "id": "5ab99f2c-eba2-4f70-af38-b23e2e249e9e",
   "metadata": {},
   "outputs": [
    {
     "data": {
      "text/plain": [
       "Array(3.9590842e-10, dtype=float32)"
      ]
     },
     "execution_count": 11,
     "metadata": {},
     "output_type": "execute_result"
    }
   ],
   "source": [
    "temperature = 300.0\n",
    "pressure = 100.0\n",
    "wavelength = 2.99401875e-05\n",
    "\n",
    "evaluator.eval(temperature, pressure, wavelength)"
   ]
  },
  {
   "cell_type": "markdown",
   "id": "b9b6cd6a-0c20-4b57-b923-1d49d26fa58a",
   "metadata": {},
   "source": [
    "## Checking accuracy and speed\n",
    "\n",
    "Saving memory isn't all that useful if we're inaccurate and take too much time. Let's check whether that's the case.\n",
    "\n",
    "First of all, time. Let's use a lower-level routine that's a bit more apples-to-apples comparison with array-indexing."
   ]
  },
  {
   "cell_type": "code",
   "execution_count": 12,
   "id": "3a698c42-b1e4-40fa-b173-a7b43ece248c",
   "metadata": {},
   "outputs": [],
   "source": [
    "temperature_ind = np.where(np.isclose(opac_obj.T, temperature))[0][0]\n",
    "pressure_ind = np.where(np.isclose(opac_obj.P, pressure))[0][0]\n",
    "wavelength_ind = np.where(np.isclose(opac_obj.wl, wavelength))[0][0]\n",
    "pca_vectors, pca_coeffs_all_wl = evaluator.fitter_results\n",
    "pca_coeffs = pca_coeffs_all_wl[wavelength_ind, :, :]"
   ]
  },
  {
   "cell_type": "code",
   "execution_count": 13,
   "id": "858bd69b-970c-4df9-a2f9-aa252e48a628",
   "metadata": {},
   "outputs": [
    {
     "name": "stdout",
     "output_type": "stream",
     "text": [
      "6.77 µs ± 18.8 ns per loop (mean ± std. dev. of 7 runs, 100,000 loops each)\n"
     ]
    }
   ],
   "source": [
    "%%timeit\n",
    "eval_pca_ind_wav(temperature_ind, pressure_ind, pca_vectors, pca_coeffs)"
   ]
  },
  {
   "cell_type": "markdown",
   "id": "d7d8592d-d838-4d38-9fa7-4e89385f2f28",
   "metadata": {},
   "source": [
    "Let's compare this to how long it takes to access an array."
   ]
  },
  {
   "cell_type": "code",
   "execution_count": 14,
   "id": "ffc598f2-decb-4762-b670-116969c4fdb0",
   "metadata": {},
   "outputs": [
    {
     "name": "stdout",
     "output_type": "stream",
     "text": [
      "228 ns ± 1.25 ns per loop (mean ± std. dev. of 7 runs, 1,000,000 loops each)\n"
     ]
    }
   ],
   "source": [
    "%%timeit\n",
    "opac_obj.cross_section[temperature_ind][pressure_ind][wavelength_ind]"
   ]
  },
  {
   "cell_type": "markdown",
   "id": "4380a3fa-791e-4989-9046-6e8779252ce2",
   "metadata": {},
   "source": [
    "Accessing the array directly is clearly faster. As long as this step does not bottleneck your code, however, you should be fine.\n",
    "\n",
    "Now, let's check the accuracy. We'll compare the log abundances, because this is the quantity to which we are sensitive in exoplanet spectroscopy."
   ]
  },
  {
   "cell_type": "code",
   "execution_count": 15,
   "id": "b3a9f9a1-c914-4121-8cfe-b25780116953",
   "metadata": {},
   "outputs": [],
   "source": [
    "AMU = 1.6605390666e-24  # atomic mass unit in cgs. From astropy!"
   ]
  },
  {
   "cell_type": "code",
   "execution_count": 16,
   "id": "824b7ee4-a201-487c-8b0e-a226250b7960",
   "metadata": {},
   "outputs": [],
   "source": [
    "array_res = opac_obj.cross_section[temperature_ind][pressure_ind][wavelength_ind]"
   ]
  },
  {
   "cell_type": "code",
   "execution_count": 17,
   "id": "f4b57b46-bd9a-4a91-be94-a71bec07bc03",
   "metadata": {},
   "outputs": [],
   "source": [
    "eval_res = np.log10(\n",
    "    evaluator.eval(temperature, pressure, wavelength)\n",
    "    * evaluator.load_obj.species_weight\n",
    "    * AMU\n",
    "    * 1e-4\n",
    ")"
   ]
  },
  {
   "cell_type": "code",
   "execution_count": 18,
   "id": "4ecdfac5-d641-4226-8654-12f2dc75bf4d",
   "metadata": {},
   "outputs": [
    {
     "data": {
      "text/plain": [
       "8.942134468836937"
      ]
     },
     "execution_count": 18,
     "metadata": {},
     "output_type": "execute_result"
    }
   ],
   "source": [
    "percent_error = 100 * (eval_res - array_res) / array_res\n",
    "percent_error"
   ]
  },
  {
   "cell_type": "markdown",
   "id": "906f1288-d237-4d6d-b0d4-b78dc1f6588a",
   "metadata": {},
   "source": [
    "We're reaching a 9% error in the log abundance. That might be good enough for your applications, or it might not. We recommend tuning your algorithm to the level of agreement necessary for, e.g., generating a transmission spectrum, or running an emission spectrum retrieval."
   ]
  }
 ],
 "metadata": {
  "kernelspec": {
   "display_name": "Python 3 (ipykernel)",
   "language": "python",
   "name": "python3"
  },
  "language_info": {
   "codemirror_mode": {
    "name": "ipython",
    "version": 3
   },
   "file_extension": ".py",
   "mimetype": "text/x-python",
   "name": "python",
   "nbconvert_exporter": "python",
   "pygments_lexer": "ipython3",
   "version": "3.10.13"
  }
 },
 "nbformat": 4,
 "nbformat_minor": 5
}
