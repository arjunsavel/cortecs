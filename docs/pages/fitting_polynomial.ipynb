{
 "cells": [
  {
   "cell_type": "markdown",
   "id": "7020b674-2c0b-4bf3-b5b9-e9a8f9cb62da",
   "metadata": {},
   "source": [
    "# Fitting with polynomials"
   ]
  },
  {
   "cell_type": "markdown",
   "id": "fff6cc23-b5bd-4aec-a4de-a3b2b7c6466b",
   "metadata": {},
   "source": [
    "For our final fitting tutorial, we'll review how to fit opacity functions with polynomials. This approach is generally the least performant of the three currently supported, though it likely performs well enough for very smoothly varying opacity functions (such as collisionally induced absorption)."
   ]
  },
  {
   "cell_type": "markdown",
   "id": "b2b4a46d-4295-4469-ba3b-9b43ac30334f",
   "metadata": {},
   "source": [
    "## Setting up the objects"
   ]
  },
  {
   "cell_type": "code",
   "execution_count": null,
   "id": "8730d7ff-2ca7-4699-9e06-b8f179de5080",
   "metadata": {},
   "outputs": [],
   "source": [
    "import numpy as np\n",
    "import sys\n",
    "import os\n",
    "\n",
    "sys.path.insert(0, os.path.abspath(\"../../src\"))\n",
    "\n",
    "import cortecs\n",
    "from cortecs.opac.opac import *\n",
    "from cortecs.fit.fit import *\n",
    "from cortecs.fit.fit_pca import *\n",
    "from cortecs.eval.eval import *"
   ]
  },
  {
   "cell_type": "markdown",
   "id": "723f3074-0a61-4c40-88ba-968d40559b1e",
   "metadata": {},
   "source": [
    "We'll be using the same `Opac` object as in the Quickstart."
   ]
  },
  {
   "cell_type": "code",
   "execution_count": null,
   "id": "3439ca99-3411-49fd-8ce9-cec46a5a52e9",
   "metadata": {},
   "outputs": [],
   "source": [
    "T_filename = \"temperatures.npy\"\n",
    "P_filename = \"pressures.npy\"\n",
    "wl_filename = \"wavelengths.npy\"\n",
    "\n",
    "cross_sec_filename = \"absorb_coeffs_C2H4.npy\"\n",
    "\n",
    "load_kwargs = {\n",
    "    \"T_filename\": T_filename,\n",
    "    \"P_filename\": P_filename,\n",
    "    \"wl_filename\": wl_filename,\n",
    "}\n",
    "opac_obj = Opac(cross_sec_filename, loader=\"platon\", load_kwargs=load_kwargs)"
   ]
  },
  {
   "cell_type": "markdown",
   "id": "ff7afaef-2780-46c3-9606-ceec19db9863",
   "metadata": {},
   "source": [
    "Now, we instantiate a `Fitter` with the `polynomial` method."
   ]
  },
  {
   "cell_type": "code",
   "execution_count": null,
   "id": "97ac00cb-4a68-4fa3-8fe3-2fee517306dd",
   "metadata": {},
   "outputs": [],
   "source": [
    "fitter = Fitter(opac_obj, method=\"polynomial\")\n",
    "fitter"
   ]
  },
  {
   "cell_type": "code",
   "execution_count": null,
   "id": "431fa3ca-4592-4aa8-befa-ef3e37edc93d",
   "metadata": {},
   "outputs": [],
   "source": [
    "fitter.fit()"
   ]
  },
  {
   "cell_type": "markdown",
   "id": "8b3fcd8e-1a52-44bd-96a3-ef3f12747823",
   "metadata": {},
   "source": [
    "Let's use an `Evaluator` to see how well we captured the opacity function."
   ]
  },
  {
   "cell_type": "code",
   "execution_count": null,
   "id": "a1e960ba-1c13-4af2-8ddf-871f21b398bc",
   "metadata": {},
   "outputs": [],
   "source": [
    "evaluator = Evaluator(opac_obj, fitter)"
   ]
  },
  {
   "cell_type": "code",
   "execution_count": null,
   "id": "8082172c-2f7e-4757-870b-b8ef3d06ea28",
   "metadata": {},
   "outputs": [],
   "source": [
    "temperature = 300.0\n",
    "pressure = 100\n",
    "wavelength = 2.99401875e-05\n",
    "\n",
    "evaluator.eval(pressure, temperature, wavelength)"
   ]
  },
  {
   "cell_type": "markdown",
   "id": "c9d3fb3c-a8ab-4b6b-8132-693c5bb26349",
   "metadata": {},
   "source": [
    "Accuracy-wise, this doesn't perform that well. This performance hit is partially because this opacity zeros out in many corners of parameter space, and the polynomial fit can't account for those sharp edges."
   ]
  },
  {
   "cell_type": "markdown",
   "id": "0b81fb46-b6a5-4a91-9da3-388b7cfeda87",
   "metadata": {},
   "source": [
    "Let's check the evaluation time, as well."
   ]
  },
  {
   "cell_type": "code",
   "execution_count": null,
   "id": "c54bf11e-85c7-43ff-b4a8-5ea6d60372e8",
   "metadata": {},
   "outputs": [],
   "source": [
    "%%timeit\n",
    "\n",
    "evaluator.eval(temperature, pressure, wavelength)"
   ]
  },
  {
   "cell_type": "code",
   "execution_count": null,
   "id": "839813ac-72e4-44d1-b2e5-76a995f01cb2",
   "metadata": {},
   "outputs": [],
   "source": [
    "vals, orig_vals, abs_diffs, percent_diffs = calc_metrics(\n",
    "    fitter, tp_undersample_factor=2, plot=True\n",
    ");"
   ]
  },
  {
   "cell_type": "markdown",
   "id": "94abc96f-3473-48b6-961c-7eb046586487",
   "metadata": {},
   "source": [
    "This is a bit slower than some of the other methods, too."
   ]
  },
  {
   "cell_type": "code",
   "execution_count": null,
   "id": "6d8b1b61-b486-4f74-998c-ba53534b3083",
   "metadata": {},
   "outputs": [],
   "source": [
    "np.median(np.abs(abs_diffs))"
   ]
  },
  {
   "cell_type": "code",
   "execution_count": null,
   "id": "ca72ade7-c7d1-4ed4-99a8-fd67ac681e13",
   "metadata": {},
   "outputs": [],
   "source": [
    "opac_obj.cross_section.nbytes / fitter.fitter_results[1].nbytes"
   ]
  },
  {
   "cell_type": "code",
   "execution_count": null,
   "id": "125e7212-7a28-42ee-a77c-03d3530a6cab",
   "metadata": {},
   "outputs": [],
   "source": []
  }
 ],
 "metadata": {
  "kernelspec": {
   "display_name": "Python 3 (ipykernel)",
   "language": "python",
   "name": "python3"
  },
  "language_info": {
   "codemirror_mode": {
    "name": "ipython",
    "version": 3
   },
   "file_extension": ".py",
   "mimetype": "text/x-python",
   "name": "python",
   "nbconvert_exporter": "python",
   "pygments_lexer": "ipython3",
   "version": "3.10.13"
  }
 },
 "nbformat": 4,
 "nbformat_minor": 5
}
