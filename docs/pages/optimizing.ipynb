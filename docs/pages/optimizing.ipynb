{
 "cells": [
  {
   "cell_type": "markdown",
   "id": "c72aa35f-e048-4b21-8dbb-543f2784a7c1",
   "metadata": {
    "pycharm": {
     "name": "#%% md\n"
    }
   },
   "source": [
    "# Optimizing fits"
   ]
  },
  {
   "cell_type": "markdown",
   "id": "ce5e8765-93d8-469d-b489-ed33402fd4c9",
   "metadata": {
    "pycharm": {
     "name": "#%% md\n"
    }
   },
   "source": [
    "At this point, we know how to fit functions to opacity dependence as a function of temperature, pressure, and wavelength. The question remains: Is our fit as good as it can be?\n",
    "\n",
    "Some of the tweaking, of course, occurs during the fitting process. For instance, a neural network's weights are optimized during a training process. But the *hyperparameters* of these fits — such as how many polynomial terms to include in the fit — are currently fixed for each fit.\n",
    "\n",
    "In this tutorial, we'll demonstrate how `cortecs` can optimize its hyperparameters. This \"optimization\" process refers to how well the original data can be reconstructed given a maximum size of the compression model. This process essentially performs a grid search to find the hyperparameters with the lowest mean-squared error.\n",
    "\n",
    "Let's get started! We'll quickly run through a standard neural network fit to get things going. Please reference the neural network-fitting notebook for more detailed information on how to do so."
   ]
  },
  {
   "cell_type": "markdown",
   "id": "a0eb8ec2-c1e6-431d-a51e-d3de9c363f2c",
   "metadata": {
    "pycharm": {
     "name": "#%% md\n"
    }
   },
   "source": [
    "## Setting up the fit"
   ]
  },
  {
   "cell_type": "code",
   "execution_count": null,
   "id": "465e0289-4f8f-4785-9227-1291fbdd70ca",
   "metadata": {
    "pycharm": {
     "name": "#%%\n"
    }
   },
   "outputs": [],
   "source": [
    "import numpy as np\n",
    "import random\n",
    "import os\n",
    "import sys\n",
    "\n",
    "sys.path.insert(0, os.path.abspath(\"../../src\"))\n",
    "\n",
    "import cortecs\n",
    "from cortecs.opac.opac import *\n",
    "from cortecs.fit.fit import *\n",
    "from cortecs.eval.eval import *\n",
    "from cortecs.opt.opt import *\n",
    "\n",
    "seed = 42\n",
    "np.random.seed(seed)\n",
    "tf.random.set_seed(seed)\n",
    "os.environ[\"PYTHONHASHSEED\"] = str(seed)\n",
    "random.seed(seed)"
   ]
  },
  {
   "cell_type": "code",
   "execution_count": null,
   "id": "9d382ad1-9356-41ad-95ec-175be6835eff",
   "metadata": {
    "pycharm": {
     "name": "#%%\n"
    }
   },
   "outputs": [],
   "source": [
    "T_filename = \"temperatures.npy\"\n",
    "P_filename = \"pressures.npy\"\n",
    "wl_filename = \"wavelengths.npy\"\n",
    "\n",
    "cross_sec_filename = \"absorb_coeffs_C2H4.npy\"\n",
    "\n",
    "load_kwargs = {\n",
    "    \"T_filename\": T_filename,\n",
    "    \"P_filename\": P_filename,\n",
    "    \"wl_filename\": wl_filename,\n",
    "}\n",
    "opac_obj = Opac(cross_sec_filename, loader=\"platon\", load_kwargs=load_kwargs)"
   ]
  },
  {
   "cell_type": "code",
   "execution_count": null,
   "id": "d1d67aca-ae6f-4597-8181-c989d738620c",
   "metadata": {
    "pycharm": {
     "name": "#%%\n"
    }
   },
   "outputs": [],
   "source": [
    "fitter = Fitter(opac_obj, method=\"neural_net\")\n",
    "res = cortecs.fit.fit_neural_net.fit_neural_net(\n",
    "    fitter.opac.cross_section[:, :, -2],\n",
    "    fitter.opac.T,\n",
    "    fitter.opac.P,\n",
    "    None,\n",
    "    n_layers=3,\n",
    "    n_neurons=8,\n",
    "    activation=\"sigmoid\",\n",
    "    learn_rate=0.04,\n",
    "    loss=\"mean_squared_error\",\n",
    "    epochs=4000,\n",
    "    verbose=0,\n",
    "    sequential_model=None,\n",
    "    plot=True,\n",
    ")"
   ]
  },
  {
   "cell_type": "markdown",
   "id": "aa5a4c0f-bcaf-4bae-8529-12ddb3ed2ac8",
   "metadata": {
    "pycharm": {
     "name": "#%% md\n"
    }
   },
   "source": [
    "Things look pretty good — let's check to be sure."
   ]
  },
  {
   "cell_type": "code",
   "execution_count": null,
   "id": "287fa918-89a3-4e35-9839-edcee1167d8d",
   "metadata": {
    "pycharm": {
     "name": "#%%\n"
    }
   },
   "outputs": [],
   "source": [
    "history, neural_network = res\n",
    "P_unraveled = unravel_data(fitter.opac.P, fitter.opac.T, None, tileboth=True)\n",
    "T_unraveled = unravel_data(fitter.opac.T, fitter.opac.P, None, tileboth=False)\n",
    "input_array = np.column_stack([T_unraveled, P_unraveled])\n",
    "\n",
    "npres = len(fitter.opac.P)\n",
    "ntemp = len(fitter.opac.T)\n",
    "\n",
    "predictions = neural_network.predict(input_array)\n",
    "plt.imshow(\n",
    "    100\n",
    "    * (predictions.reshape(ntemp, npres) - fitter.opac.cross_section[:, :, -1])\n",
    "    / predictions.reshape(ntemp, npres)\n",
    ")\n",
    "plt.colorbar()"
   ]
  },
  {
   "cell_type": "markdown",
   "id": "ff68ce2e-2524-493a-aa9b-55be0531a0d8",
   "metadata": {
    "pycharm": {
     "name": "#%% md\n"
    }
   },
   "source": [
    "## Optimization"
   ]
  },
  {
   "cell_type": "code",
   "execution_count": null,
   "id": "923edfe8-6c3f-4612-9025-9fbfb9ade1a8",
   "metadata": {
    "pycharm": {
     "name": "#%%\n"
    }
   },
   "outputs": [],
   "source": [
    "optimizer = Optimizer(fitter)"
   ]
  },
  {
   "cell_type": "markdown",
   "id": "b3dadac9-7d03-4530-84e6-e9ac09fbfb44",
   "metadata": {
    "pycharm": {
     "name": "#%% md\n"
    }
   },
   "source": [
    "Next, we need to restrict how many hyperparameters the `Optimizer` tests. \n",
    "\n",
    "We'll first define the `max_size` parameter. This sets how large the opacity fit *at a single point* is. Something on the order of a few KB is probably reasonable, but the decision is up to you — at the end of the day, you want your fit to consume less memory than the opacity function it's fitting! "
   ]
  },
  {
   "cell_type": "code",
   "execution_count": null,
   "id": "e193f1ca-4488-4526-95bd-9cb4c72d35d6",
   "metadata": {
    "pycharm": {
     "name": "#%%\n"
    }
   },
   "outputs": [],
   "source": [
    "max_size = 1.6  # in KB"
   ]
  },
  {
   "cell_type": "markdown",
   "id": "2be5ac80-23d4-434c-a850-8116f724f703",
   "metadata": {
    "pycharm": {
     "name": "#%% md\n"
    }
   },
   "source": [
    "In addition to this parameter, we need to set the `max_evaluations` parameter. This parameter sets how many models the `Optimizer` tests, essentially setting how long the optimization takes. For the purposes of this tutorial, we'll set a relatively low number. Note that this is an upper bound — setting `max_evaluations = 8`, for instance, will only run 2 model evaluations."
   ]
  },
  {
   "cell_type": "code",
   "execution_count": null,
   "id": "55ceac04-e41e-489f-8e2d-75862552eb39",
   "metadata": {
    "pycharm": {
     "name": "#%%\n"
    }
   },
   "outputs": [],
   "source": [
    "max_evaluations = 16"
   ]
  },
  {
   "cell_type": "markdown",
   "id": "a11cdfa2-db6f-4eff-8967-fd718dd7d5fa",
   "metadata": {
    "pycharm": {
     "name": "#%% md\n"
    }
   },
   "source": [
    "Now, it's time to run the optimizer!"
   ]
  },
  {
   "cell_type": "code",
   "execution_count": null,
   "id": "2c552707-9d84-4943-b51c-8a6e704ca5db",
   "metadata": {},
   "outputs": [],
   "source": [
    "optimizer.optimize(max_size, max_evaluations)"
   ]
  },
  {
   "cell_type": "markdown",
   "id": "a0f11df9-2c38-43d7-aad1-f2966d21746e",
   "metadata": {
    "pycharm": {
     "name": "#%% md\n"
    }
   },
   "source": [
    "This took a couple of minutes on a laptop. Let's look at those best-fit parameters."
   ]
  },
  {
   "cell_type": "code",
   "execution_count": null,
   "id": "ff63a90b-a667-4779-838c-0dcaa918c698",
   "metadata": {
    "pycharm": {
     "name": "#%%\n"
    }
   },
   "outputs": [],
   "source": [
    "optimizer.best_params"
   ]
  },
  {
   "cell_type": "markdown",
   "id": "cb6f7c1e-fa37-4e7e-84c5-1dffcb7b9416",
   "metadata": {
    "pycharm": {
     "name": "#%% md\n"
    }
   },
   "source": [
    "Note that if you'd like, you can set custom ranges for each of the neural net parameters."
   ]
  },
  {
   "cell_type": "markdown",
   "id": "f8321ba2-113b-4cf6-b0bc-06a77e2120b3",
   "metadata": {},
   "source": [
    "# Optimizing for PCA\n",
    "We can perform the same optimization process for our PCA fit. For instance, we can optimize which wavelength index is initially fit over, or how many PCA components to use."
   ]
  },
  {
   "cell_type": "code",
   "execution_count": null,
   "id": "7861078f-6b16-49b6-a5fe-03d033168d4f",
   "metadata": {},
   "outputs": [],
   "source": [
    "fitter = Fitter(opac_obj, method=\"pca\")\n",
    "fitter.fit()"
   ]
  },
  {
   "cell_type": "code",
   "execution_count": null,
   "id": "9d498624-012a-4593-a558-ba37bc3c14a6",
   "metadata": {},
   "outputs": [],
   "source": [
    "optimizer = Optimizer(fitter)"
   ]
  },
  {
   "cell_type": "code",
   "execution_count": null,
   "id": "3099937b-5feb-4d28-adaf-9212631e8858",
   "metadata": {},
   "outputs": [],
   "source": [
    "optimizer.optimize(max_size, max_evaluations)"
   ]
  },
  {
   "cell_type": "code",
   "execution_count": null,
   "id": "77247b64-92e0-4934-b739-e9e42f28094b",
   "metadata": {},
   "outputs": [],
   "source": [
    "optimizer.best_params"
   ]
  },
  {
   "cell_type": "markdown",
   "id": "6a022267-0feb-4e31-8018-afaed83c1a24",
   "metadata": {},
   "source": [
    "Note that optimizing for the polynomial fits is not currently supported; we plan to support this functionality in a future release of `cortecs`."
   ]
  }
 ],
 "metadata": {
  "kernelspec": {
   "display_name": "Python 3 (ipykernel)",
   "language": "python",
   "name": "python3"
  },
  "language_info": {
   "codemirror_mode": {
    "name": "ipython",
    "version": 3
   },
   "file_extension": ".py",
   "mimetype": "text/x-python",
   "name": "python",
   "nbconvert_exporter": "python",
   "pygments_lexer": "ipython3",
   "version": "3.10.13"
  }
 },
 "nbformat": 4,
 "nbformat_minor": 5
}
