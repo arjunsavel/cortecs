{
 "cells": [
  {
   "cell_type": "markdown",
   "id": "707f3f39-f2f8-4c7d-bf7d-46fdff464dcb",
   "metadata": {
    "pycharm": {
     "name": "#%% md\n"
    }
   },
   "source": [
    "# Fitting with a neural network"
   ]
  },
  {
   "cell_type": "markdown",
   "id": "5e354e08-962a-4b4a-b801-618d8d516c7f",
   "metadata": {
    "pycharm": {
     "name": "#%% md\n"
    }
   },
   "source": [
    "In the Quickstart tutorial, we worked through how to use the PCA-based approach implemented in `cortecs`. Now, let's walk through how to use the neural network-based approach. "
   ]
  },
  {
   "cell_type": "markdown",
   "id": "82f1ce83-d998-4e93-98aa-51eec2bbd57a",
   "metadata": {
    "pycharm": {
     "name": "#%% md\n"
    }
   },
   "source": [
    "# Setting up the objects"
   ]
  },
  {
   "cell_type": "code",
   "execution_count": null,
   "id": "097becca-dc40-4f76-ac09-c42b2caab30e",
   "metadata": {
    "pycharm": {
     "name": "#%%\n"
    }
   },
   "outputs": [],
   "source": [
    "import numpy as np\n",
    "import tensorflow as tf\n",
    "import os\n",
    "import random\n",
    "import sys\n",
    "\n",
    "sys.path.insert(0, os.path.abspath(\"../../src\"))\n",
    "\n",
    "import cortecs\n",
    "from cortecs.opac.opac import *\n",
    "from cortecs.fit.fit import *\n",
    "from cortecs.eval.eval import *\n",
    "\n",
    "\n",
    "# set the seed a few ways to enforce reproducibility\n",
    "seed = 42\n",
    "np.random.seed(seed)\n",
    "tf.random.set_seed(seed)\n",
    "os.environ[\"PYTHONHASHSEED\"] = str(seed)\n",
    "random.seed(seed)\n",
    "\n",
    "keras.utils.set_random_seed(seed)\n",
    "\n",
    "# note that setting this flag helps with reproducibility, but it may result in a performance hit.\n",
    "tf.config.experimental.enable_op_determinism()"
   ]
  },
  {
   "cell_type": "markdown",
   "id": "b06f8d7a-b09a-41af-9848-c15e041750ff",
   "metadata": {
    "pycharm": {
     "name": "#%% md\n"
    }
   },
   "source": [
    "We'll be using the same `Opac` object as in the Quickstart."
   ]
  },
  {
   "cell_type": "code",
   "execution_count": null,
   "id": "7e3cc397-d0ba-41f9-8d3e-744fac6ad4d8",
   "metadata": {
    "pycharm": {
     "name": "#%%\n"
    }
   },
   "outputs": [],
   "source": [
    "T_filename = \"temperatures.npy\"\n",
    "P_filename = \"pressures.npy\"\n",
    "wl_filename = \"wavelengths.npy\"\n",
    "\n",
    "cross_sec_filename = \"absorb_coeffs_C2H4.npy\"\n",
    "\n",
    "load_kwargs = {\n",
    "    \"T_filename\": T_filename,\n",
    "    \"P_filename\": P_filename,\n",
    "    \"wl_filename\": wl_filename,\n",
    "}\n",
    "opac_obj = Opac(cross_sec_filename, loader=\"platon\", load_kwargs=load_kwargs)"
   ]
  },
  {
   "cell_type": "markdown",
   "id": "297fd755-bd36-4250-9a54-daa9a5e09a2d",
   "metadata": {
    "pycharm": {
     "name": "#%% md\n"
    }
   },
   "source": [
    "This time, we specify that we'd like to fit the object with the `neural_net` method."
   ]
  },
  {
   "cell_type": "code",
   "execution_count": null,
   "id": "8014fd55-430c-4120-829e-0d720592dc05",
   "metadata": {
    "pycharm": {
     "name": "#%%\n"
    }
   },
   "outputs": [],
   "source": [
    "fitter = Fitter(opac_obj, method=\"neural_net\")\n",
    "fitter"
   ]
  },
  {
   "cell_type": "markdown",
   "id": "ccae88e2-6faa-414e-af16-2391ab92d62e",
   "metadata": {
    "pycharm": {
     "name": "#%% md\n"
    }
   },
   "source": [
    "We won't actually fit the entire opacity, though—that would take about 15 hours on a laptop. Instead, let's just fit a single one using a lower-level API."
   ]
  },
  {
   "cell_type": "code",
   "execution_count": null,
   "id": "aed2c092-3eaf-44d0-ba7b-e88d2e9f8b55",
   "metadata": {
    "pycharm": {
     "name": "#%%\n"
    }
   },
   "outputs": [],
   "source": [
    "%%time\n",
    "res = cortecs.fit.fit_neural_net.fit_neural_net(\n",
    "    fitter.opac.cross_section[:, :, -2],\n",
    "    fitter.opac.T,\n",
    "    fitter.opac.P,\n",
    "    None,\n",
    "    n_layers=3,\n",
    "    n_neurons=8,\n",
    "    activation=\"sigmoid\",\n",
    "    learn_rate=0.04,\n",
    "    loss=\"mean_squared_error\",\n",
    "    epochs=4000,\n",
    "    verbose=0,\n",
    "    sequential_model=None,\n",
    "    plot=True,\n",
    ")"
   ]
  },
  {
   "cell_type": "markdown",
   "id": "f47338c6-9fcf-4bd0-b2e9-1c0a47ebca89",
   "metadata": {
    "pycharm": {
     "name": "#%% md\n"
    }
   },
   "source": [
    "This code shouldn't take more than 30 seconds or so to run.\n",
    "\n",
    "The above plot tells us how the model performs as it iterates on its weights. Note that while enforcing the seeds above enforces reproducibility from run to run *on a single machine*, there still may be some operating system-dependent differences in the plots and results shown here."
   ]
  },
  {
   "cell_type": "code",
   "execution_count": null,
   "id": "f4d9c277-972e-449f-aefd-9036b04de343",
   "metadata": {
    "pycharm": {
     "name": "#%%\n"
    }
   },
   "outputs": [],
   "source": [
    "res = cortecs.fit.fit_neural_net.fit_neural_net(\n",
    "    fitter.opac.cross_section[:, :, -2],\n",
    "    fitter.opac.T,\n",
    "    fitter.opac.P,\n",
    "    None,\n",
    "    n_layers=3,\n",
    "    n_neurons=8,\n",
    "    activation=\"sigmoid\",\n",
    "    learn_rate=0.04,\n",
    "    loss=\"mean_squared_error\",\n",
    "    epochs=4000,\n",
    "    verbose=0,\n",
    "    sequential_model=None,\n",
    "    plot=True,\n",
    ")\n",
    "history, neural_network = res"
   ]
  },
  {
   "cell_type": "code",
   "execution_count": null,
   "id": "8ff11a15-e751-4a8d-b5eb-3eef405da7fb",
   "metadata": {},
   "outputs": [],
   "source": [
    "P_unraveled = unravel_data(fitter.opac.P, fitter.opac.T, None, tileboth=True)\n",
    "T_unraveled = unravel_data(fitter.opac.T, fitter.opac.P, None, tileboth=False)\n",
    "input_array = np.column_stack([T_unraveled, P_unraveled])\n",
    "\n",
    "npres = len(fitter.opac.P)\n",
    "ntemp = len(fitter.opac.T)\n",
    "\n",
    "predictions = neural_network.predict(input_array)\n",
    "plt.imshow(\n",
    "    100\n",
    "    * (predictions.reshape(ntemp, npres) - fitter.opac.cross_section[:, :, -1])\n",
    "    / predictions.reshape(ntemp, npres)\n",
    ")\n",
    "plt.colorbar()"
   ]
  },
  {
   "cell_type": "code",
   "execution_count": null,
   "id": "650ecb49-5d99-445e-9eee-b8780ea46ce4",
   "metadata": {
    "scrolled": true
   },
   "outputs": [],
   "source": [
    "P_unraveled = unravel_data(fitter.opac.P, fitter.opac.T, None, tileboth=True)\n",
    "T_unraveled = unravel_data(fitter.opac.T, fitter.opac.P, None, tileboth=False)\n",
    "input_array = np.column_stack([T_unraveled, P_unraveled])\n",
    "\n",
    "npres = len(fitter.opac.P)\n",
    "ntemp = len(fitter.opac.T)\n",
    "\n",
    "predictions = neural_network.predict(input_array)\n",
    "plt.imshow(\n",
    "    100\n",
    "    * (predictions.reshape(ntemp, npres) - fitter.opac.cross_section[:, :, -1])\n",
    "    / predictions.reshape(ntemp, npres)\n",
    ")\n",
    "plt.colorbar()"
   ]
  },
  {
   "cell_type": "markdown",
   "id": "1e03faac-4374-4707-ac7e-7d72b26bb404",
   "metadata": {
    "pycharm": {
     "name": "#%% md\n"
    }
   },
   "source": [
    "Awesome! Looks like we have accuracy at better than ~5%. We can tune the architecture of the neural network to achieve greater accuracy, but keep in mind that a larger network means more memory — that is, less efficient compression.\n",
    "\n",
    "We can save the weights for this individual neural network with the built-in API."
   ]
  },
  {
   "cell_type": "code",
   "execution_count": null,
   "id": "dd472fc9-db73-4f84-a857-55011fa1cb5b",
   "metadata": {
    "pycharm": {
     "name": "#%%\n"
    }
   },
   "outputs": [],
   "source": [
    "save_neural_net(\"test_nn\", res)"
   ]
  },
  {
   "cell_type": "markdown",
   "id": "fbf48b71-10e2-496c-b953-b8f2fc7ea607",
   "metadata": {
    "pycharm": {
     "name": "#%% md\n"
    }
   },
   "source": [
    "Great! We've saved our network to the disk. Let's make sure that evaluating this on the fly (without the neural network API — just the weights and the biases) works out.\n",
    "\n",
    "First, we load in the weights and the biases."
   ]
  },
  {
   "cell_type": "code",
   "execution_count": null,
   "id": "e2fbc3b9-9d9d-4de8-b553-1008c1a1dff9",
   "metadata": {
    "pycharm": {
     "name": "#%%\n"
    }
   },
   "outputs": [],
   "source": [
    "with open(\"test_nn.pkl\", \"rb\") as f:\n",
    "    all_weights, all_biases = pickle.load(f)"
   ]
  },
  {
   "cell_type": "markdown",
   "id": "58149137-ae9f-4ba4-ad3f-c54fd9a6d556",
   "metadata": {
    "pycharm": {
     "name": "#%% md\n"
    }
   },
   "source": [
    "Next, we call the `eval_neural_net` method to evaluate the neural net with those weights and biases."
   ]
  },
  {
   "cell_type": "code",
   "execution_count": null,
   "id": "5a2278c9-cf25-4330-b678-c9a20b6d6c9e",
   "metadata": {
    "pycharm": {
     "name": "#%%\n"
    }
   },
   "outputs": [],
   "source": [
    "n_layers = len(all_weights)\n",
    "eval_neural_net(100, 1e-4, n_layers=n_layers, weights=all_weights, biases=all_biases)"
   ]
  },
  {
   "cell_type": "markdown",
   "id": "ec5a19f0-0e45-4ede-b90b-945b48213ac3",
   "metadata": {
    "pycharm": {
     "name": "#%% md\n"
    }
   },
   "source": [
    "Great! And let's check that this matches the prediction we made earlier with the same neural net."
   ]
  },
  {
   "cell_type": "code",
   "execution_count": null,
   "id": "b0609c46-8247-45c9-b721-d588c17688da",
   "metadata": {
    "pycharm": {
     "name": "#%%\n"
    }
   },
   "outputs": [],
   "source": [
    "predictions[0]"
   ]
  },
  {
   "cell_type": "markdown",
   "id": "7c5819ee-a409-4b1b-9a15-bedb14b069cf",
   "metadata": {
    "pycharm": {
     "name": "#%% md\n"
    }
   },
   "source": [
    "Finally, let's do a speed test."
   ]
  },
  {
   "cell_type": "code",
   "execution_count": null,
   "id": "1c26263b-84e6-4a52-96c3-2651568b71c2",
   "metadata": {
    "pycharm": {
     "name": "#%%\n"
    }
   },
   "outputs": [],
   "source": [
    "%%timeit\n",
    "eval_neural_net(2000, 1e-4, n_layers=n_layers, weights=all_weights, biases=all_biases)"
   ]
  },
  {
   "cell_type": "markdown",
   "id": "b2881850-9d15-4881-bfab-53024650022b",
   "metadata": {
    "pycharm": {
     "name": "#%% md\n"
    }
   },
   "source": [
    "Again, this is slower than simply accessing the array. This is a trade-off you'll have to make depending on your architecture (CPU vs. GPU), desired accuracy, and desired memory performance.\n",
    "\n",
    "This tutorial has walked through how to use the neural network-based approach to fitting opacity data. We did so using a single neural network architecture — i.e., we only used n_layers=3, n_neurons=8, etc. These model \"hyperparameters\" in principle have an optimal value for a given dataset, given constraints on model size. We will explore this idea further in the [Optimizing Fits](https://cortecs.readthedocs.io/en/latest/pages/optimizing/#) tutorial."
   ]
  },
  {
   "cell_type": "markdown",
   "id": "e9cb62ae-fb9e-4713-b0fe-2b8bc0a74091",
   "metadata": {},
   "source": [
    "We can also quickly check the compression factor of of our result."
   ]
  },
  {
   "cell_type": "code",
   "execution_count": null,
   "id": "ee828529-9783-4548-acdf-fbcd67f43d42",
   "metadata": {},
   "outputs": [],
   "source": [
    "nbytes = 0.0\n",
    "for j in all_biases:\n",
    "    nbytes += j.nbytes\n",
    "for j in all_weights:\n",
    "    nbytes += j.nbytes\n",
    "opac_obj.cross_section.nbytes / (nbytes * len(opac_obj.wl))"
   ]
  },
  {
   "cell_type": "code",
   "execution_count": null,
   "id": "de8739c7-2642-4c1a-92ac-9e8a8883efdd",
   "metadata": {},
   "outputs": [],
   "source": []
  },
  {
   "cell_type": "code",
   "execution_count": null,
   "id": "4e8f6df0-a216-45a1-ba14-1cdc4755b724",
   "metadata": {},
   "outputs": [],
   "source": []
  }
 ],
 "metadata": {
  "kernelspec": {
   "display_name": "Python 3 (ipykernel)",
   "language": "python",
   "name": "python3"
  },
  "language_info": {
   "codemirror_mode": {
    "name": "ipython",
    "version": 3
   },
   "file_extension": ".py",
   "mimetype": "text/x-python",
   "name": "python",
   "nbconvert_exporter": "python",
   "pygments_lexer": "ipython3",
   "version": "3.10.13"
  }
 },
 "nbformat": 4,
 "nbformat_minor": 5
}
